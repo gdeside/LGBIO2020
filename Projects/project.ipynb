{
 "cells": [
  {
   "cell_type": "markdown",
   "metadata": {},
   "source": [
    "<font size=5  color=#003366> **[LGBIO2020] - Bioinstrumentation <br><br> \n",
    "Project EEG classification : Open your eyes! ** </font> <br><br><br>\n",
    "\n",
    "<font size=5  color=#003366>\n",
    "Prof. M. Verleysen<br>\n",
    "Prof. A. Moureaux<br>\n",
    "\n",
    "<br><br>\n",
    "Anne-Sophie Collin (anne-sophie.collin@uclouvain.be)<br> \n",
    "<div style=\"text-align: right\"> Version 2021 </div>\n",
    "<br><br>\n",
    "</font>"
   ]
  },
  {
   "cell_type": "markdown",
   "metadata": {},
   "source": [
    "<font size=5 color=#009999> <b>GLOBAL CONTEXT </b> <br>\n",
    "DEFINITION OF EEG CLASSIFICATION \n",
    "</font> <br> <br>\n",
    "\n",
    "The aim of this project is to distinguish short segments of an EEG signal recorded in a subject whose eyes are either closed or open. In other words, you will train a binary classifier taking as input (features extracted from) a 500 ms EEG signal and for wich the prediction is the state of the subject (either eyes closed or open). To reach this goal, you will work on a real dataset recoded in the laboratory of Woluwe. Unforntunately, the data recorded this year during the EEG+TMS lab are not usable for this project due to recording issues. You will have to work on other recordings.</b> <br>\n",
    "\n",
    "You will have to pre-process the obtained dataset, extract relevant features and finally tackle the classification task. Some guidelines are given along this notebook. <b>You are allowed, and even encouraged, to skip/modify some of the proposed steps, as long as you provide some justifications. The comments/justifications that you will provide are crutial for this project! Writing code is not enough: You have to explain why you have taken your decisions.</b> <br>\n",
    "\n",
    "In addition to this notebook, you are asked to  <b>write a report (pdf file - max. 5 pages, appendices are allowed) documenting all the choices that you have made regarding the processing steps. You should also present and comment your main results. </b> Do not hesitate to consult books or internet ressources. This is allowed to use them to answer the questions as long as you cite your references.\n",
    "\n",
    "\n",
    "<br>\n",
    "\n",
    "<img src=\"imgs/GeneralContext.jpg\" width = \"600\">\n",
    "\n",
    "The context of this project is illustrated in the figure above <sup>[1](https://scielo.conicyt.cl/scielo.php?script=sci_arttext&pid=S0716-97602007000500005) </sup>. First, you will be asked to extract segments of 500 ms out of the recorded EEG waves. During each segment, the state of the subject (eyes open or closed) must be constant. Based on these segments, you will extract some usefull features that will help to summarize the information content in those 500 ms signals. Then, you will train a classifier to predict whether a given new segment belongs to the \"eyes open\" or the \"eyes closed\" class. You will have to predict the performances you can obtain with this classification model.\n",
    "<br><br>\n",
    "\n",
    "\n",
    "<font size=5 color=#009999> <b> STRUCTURE OF THE PROJECT </b> <br>\n",
    "WHAT ARE THE MAIN STEPS?\n",
    "</font> <br> <br>\n",
    "\n",
    "The project is divided into three parts : Data Precprocessing, Feature Extraction and Classification. Those are illustrated in the figure below. \n",
    "\n",
    "   - In the first step, you will have to convert the entire recorded signal into segments that correspond either to the eyes closed or eyes open condition. During this phase, you will perfom basic signal processing operation to clean you data and make the classification easier. \n",
    "   - Then, based on the segments you have constructed, you will represent each of them by a concatenation of features. The idea is to decrease the dimensionality of the data to be handled easily by the classifier. They are a multitude ways of working. Be creative! \n",
    "   - Finally, you will train some classification models on your extracted features. You will have to estimate the performances obtained with the models.\n",
    "\n",
    "<img src=\"imgs/blockdiagram.png\" width = \"800\">\n",
    "\n",
    "\n",
    "Note that those operations have been adressed during the three practical sessions. Do not hesitate to base this project on the code/observations you have already made during those sessions. \n",
    "\n",
    "<br> \n",
    "\n",
    "\n",
    "<font size=5 color=#009999> <b> INSTRUCTIONS </b> <br>\n",
    "WORK BY GROUP AND DELIVERABLES\n",
    "</font> <br> <br>\n",
    "\n",
    "You can discuss about the project with other students, but your work has to be implemented either individually or in groups of two. You must submit on Moodle an archived folder containing:\n",
    "   \n",
    "   - Your notebook file with (at least) your codes and (eventually) small remarks. If it is necessary, you can join a README.txt file explaining how to run your codes. The results presented in your report should be reproducible with these codes. Make sure that we can compile them properly (for instance if you used a different toolbox than the ones provided on Moodle, you should include the associated files in your submission).\n",
    "   - A pdf report of maximum 5 pages that presents your results and justifies your choices. You can write it in English or in French. This report is very important! Do not neglet the writing. It is recommended to illustrate and comment as much as possible your results (when it applies).\n",
    "   \n",
    "Don’t forget to mention the name(s) of the author(s) in the notebook and in the report."
   ]
  },
  {
   "cell_type": "markdown",
   "metadata": {},
   "source": [
    "<br><br>\n",
    "\n",
    "\n",
    "<font size=6 color=#009999> <center><b>PART I - DATA PREPROCESSING </b></center> </font> <br> <br>\n",
    "\n",
    "<font size=5 color=#009999> <b>GENERAL INFORMATION </b> <br>\n",
    "HOW ARE THE DATA STORED?\n",
    "</font> <br> <br>\n",
    "\n",
    "The EEG signal on which we are working have been recorded in the Wolluwe's laboratory. These signals are stored in the file <samp>EEG_data.csv</samp>. This dataset includes 32 recording channels of scalp electrodes in the following order:\n",
    "\n",
    "$$ ch\\_names = ['Fp1', 'Fpz', 'Fp2', 'F7', 'F3', 'Fz', 'F4', 'F8', 'FC5', 'FC1', 'FC2', 'FC6', 'M1', 'T7', 'C3', 'CZ', 'C4', 'T8', 'M2', 'CP5', 'CP1', 'CP2', 'CP6', 'P7', 'P3', 'PZ', 'P4', 'P8', 'POz', 'O1', 'Oz', 'O2'] $$\n",
    "<img src=\"imgs/eeg_1020.png\" width = \"300\">\n",
    "\n",
    "The file has a $t \\times ch$ dimension, where $t$ is the number of recorded time steps and $ch$ is the number of electrodes).\n",
    "\n",
    "The sampling rate of these recordings is 1000Hz.\n",
    "\n",
    "In addition, the file <samp>target.csv</samp> contains a $t \\times 1$ vector indicating the condition of the subject for each time step. Its entries ∈ {0, 1, NaN} correspond to:\n",
    "   - 1: an eye-closed state\n",
    "   - 0: an eye-open state\n",
    "   - NaN: an additional unlabeled time step\n",
    "   \n",
    "<div class=\"alert alert-warning\">\n",
    "<b>[Question 1] Import the data and visualize them</b>  <br>\n",
    "Import the signal stored in the <samp>EEG_data.csv</samp> and <samp>target.csv</samp>. As usually in a machine learning process, a simple data visualization step will help you to understand the nature of the task. You can use the <samp>ecg_plot</samp> provided in the TP1 or any other provided function. Of course, you can modify this code if you want. For example, you may find a way to integrate the target value on your plot.\n",
    "</div> \n",
    "\n",
    "<div class=\"alert alert-info\">\n",
    "<b>[Remark] Do not display all your plots in the notebook </b>  <br>\n",
    "Especially in the early stage of the project, you will produce a lot of graphs to validate what you are doing. Showing all of them in the notebook can take a huge amount of space. The, you can save them in a separate folder (in the same location as you notebook file) to look at them. This is done with the <samp>file_path</samp> argument of the visualization functions provided in previous practical sessions.\n",
    "</div> "
   ]
  },
  {
   "cell_type": "markdown",
   "metadata": {},
   "source": [
    "(If needed...) Write here your comments/observations about the code related to the Question 1 here. Main observations should be included in the report. "
   ]
  },
  {
   "cell_type": "code",
   "execution_count": 13,
   "metadata": {},
   "outputs": [],
   "source": [
    "# Insert your code here"
   ]
  },
  {
   "cell_type": "markdown",
   "metadata": {},
   "source": [
    "<font size=5 color=#009999> <b>PREPROCESSING </b> <br>\n",
    "DO YOU WANT TO CLEAN YOUR DATA?\n",
    "</font> <br> <br>\n",
    "\n",
    "Before trying to classify the different EEG segments, you may consider some pre-processing steps aiming to remove as much as possible the undesirable components in your signals. For this part, visual inspection of your signals in the time and frequency domains can be very useful. Hereunder are some suggestions that you may consider.\n",
    "\n",
    "Some pre-processing steps are better carried out on the entire continuous data, when they are intended to remove noise affecting the whole recording. For instance:\n",
    "   - you can band-pass/high-pass/low-pass filter your multi-channel EEG. Applying frequency filters before segmenting the signal is recommended to avoid including too much border effects. The purpose of this step is to only keep the frequencies that can be relevant from a physiological point of view (you may also remove the noise induced by the power line). Which frequency range do you consider? Justify with data visualization, physiological reasons,....\n",
    "   \n",
    "   - reject some electrodes (this step can also be performed on the segmented data). You can detect, for instance by visual inspection, whether some electrodes seem to be noisy. If you remove some electrodes, give their names and justify your decisions.\n",
    "   \n",
    "   - perform an ICA to filter out specific noise components (if you see any). As a reminder, if $X\\in \\mathbb{R}^\\text{n_chan} \\times \\text{n_time} $ denotes the EEG signals, ICA computes an estimate $A$ of the mixing matrix such that\n",
    "\t$$ X  = A\\cdot S = \\sum\\limits_{i = 1}^{\\text{n_sources}} A_{:i}\\cdot S_{i:} $$\n",
    "\t where $S$ is the matrix containing the time courses of the estimated sources (one source per row), $S_{i:}$ is its $i^{\\text{th}}$ row and $A_{:i}$ the $i^{\\text{th}}$ column of the mixing matrix. Therefore, it is straightforward to remove the contribution of some given sources which are supposed to reflect noise ICs by re-mixing the other ICs. Note that IC $i$ has a constant *spatial pattern* given by $A_{:i}$.\n",
    "     \n",
    "<div class=\"alert alert-warning\">\n",
    "<b>[Question 2] Clean your data </b>  <br>\n",
    "Decide wether or not you want to preprocess you data. Explain and comment why you made this choice and why you chose a specific method among other. Provide detailed answers!\n",
    "</div> "
   ]
  },
  {
   "cell_type": "markdown",
   "metadata": {},
   "source": [
    "(If needed...) Write here your comments/observations about the code related to the Question 2 here. Main observations should be included in the report. "
   ]
  },
  {
   "cell_type": "code",
   "execution_count": 14,
   "metadata": {},
   "outputs": [],
   "source": [
    "# Insert your code here"
   ]
  },
  {
   "cell_type": "markdown",
   "metadata": {},
   "source": [
    "<font size=5 color=#009999> <b> CONSTRUCT YOUR TRAINING SAMPLES </b> <br>\n",
    "SEGMENT THE SIGNALS INTO SHORT SEGMENTS\n",
    "</font> <br> <br>\n",
    "\n",
    "Based on the vector target, you are asked to construct segments of 500 ms. One segment should correspond to a signal recorded either in eyes open or eyes closed condition. \n",
    "\n",
    "You can now take other choices : \n",
    "   -  since the subject was asked to close or open her eyes at the beginning of each segment, there should be a time lag between the beginning of each segment and the actual moment when the subject’s state change. Do you observe the state changes? Illustrate. If the state change always occurs after around $x$ seconds, you should discard the first $x$ seconds after any target change when constructing the segments.\n",
    "   - you may remove the DC trend.\n",
    "   - reject some segment if you think that they are too noisy, based on visual inspection in the time and/or frequency domains. Explain why it is preferable to (not) remove segments from your dataset. If you reject some segments, illustrate.\n",
    "   - you can re-reference the signals (=modify manually the target value that has been assigned). If you decide to do so, which reference do you choose? Why?\n",
    "   \n",
    "Do not hesitate to consider different or additional denoising techniques. Justify your choices.\n",
    "   \n",
    "<div class=\"alert alert-warning\">\n",
    "<b>[Question 3] Segment your data </b>  <br>\n",
    "Segment the entire time signal into short segments of 500 ms. Each segment will constitue one training/validation/test sample of your final dataset. Justify if you decided to implement one of the propositions above.\n",
    "</div> "
   ]
  },
  {
   "cell_type": "markdown",
   "metadata": {},
   "source": [
    "(If needed...) Write here your comments/observations about the code related to the Question 3 here. Main observations should be included in the report. "
   ]
  },
  {
   "cell_type": "code",
   "execution_count": 15,
   "metadata": {},
   "outputs": [],
   "source": [
    "# Insert your code here"
   ]
  },
  {
   "cell_type": "markdown",
   "metadata": {},
   "source": [
    "\n",
    "\n"
   ]
  },
  {
   "cell_type": "markdown",
   "metadata": {},
   "source": [
    "<br><br>\n",
    "\n",
    "<font size=6 color=#009999> <center><b>PART II - FEATURE EXTRACTION </b></center> </font> <br> <br>\n",
    "\n",
    "<font size=5 color=#009999> <b>GENERAL INFORMATION </b> <br>\n",
    "WHAT CAN BE CONSIDERED?\n",
    "</font> <br> <br>\n",
    "\n",
    "To be able to classify your EEG segments, you must define the features on which you will apply the classification algorithms. These features should somehow summarize as best as possible the ‘useful’ information contained in an EEG segment.\n",
    "   - A first idea is to keep as features all the amplitudes of the EEG signals. However, this technique may have some drawbacks. For instance, you will end up with $ch \\times t$ features. How does this number compare with the number of available segments to classify? What do you think about using such features?\n",
    "   - Another option is to consider the power of a relevant subset of the channels in different physiological frequency bands. In this case, you will have $n\\_selected\\_chan \\times n\\_freq$ features, where n_freq is the number of frequency bands considered. Why would such features be sound?\n",
    "   \n",
    "Feel free to consider different features as well. Do not forget to give and comment their definition in the report.\n",
    "\n",
    "<div class=\"alert alert-info\">\n",
    "<b>[Remark] Look at your data </b>  <br>\n",
    "It is often a good idea to try visualizing the extracted features. A first simple way to do so is to plot the mean of each feature in both classes: do you observe some differences? Was it expected, from a physiological point of view? Is it necessary to keep all the defined features? Do you identify different ‘kinds of channels’ that can both be helpful for the classification, but reflecting different physiological mechanisms? Explain which channels you consider and why.\n",
    "</div>\n",
    "\n",
    "The feature extraction may be followed by a feature selection step. You can follow the method(s) proposed during the third practical session (on classification algorithms).\n",
    "\n",
    "<div class=\"alert alert-warning\">\n",
    "<b>[Question 4] Create your feature space </b>  <br>\n",
    "Explain your methodology to create relevant features out of the segments you have obtained before.\n",
    "</div> "
   ]
  },
  {
   "cell_type": "markdown",
   "metadata": {},
   "source": [
    "(If needed...) Write here your comments/observations about the code related to the Question 4 here. Main observations should be included in the report. "
   ]
  },
  {
   "cell_type": "code",
   "execution_count": 11,
   "metadata": {},
   "outputs": [],
   "source": [
    "# Insert your code here"
   ]
  },
  {
   "cell_type": "markdown",
   "metadata": {},
   "source": [
    "<br><br>\n",
    "\n",
    "<font size=6 color=#009999> <center><b>PART III - CLASSIFICATION </b></center> </font> <br> <br>\n",
    "\n",
    "<font size=5 color=#009999> <b>GENERAL INFORMATION </b> <br>\n",
    "WHAT CAN BE CONSIDERED?\n",
    "</font> <br> <br>\n",
    "\n",
    "In order to assess whether the features defined above allow to discriminate between the two conditions (eyes closed or open), you will use classification algorithms. For this task, you are advised to follow the instructions given for the third practical session. In particular, you should consider using a K-Fold cross validation to evaluate your classifiers.\n",
    "You are asked to use at least two classifiers among the following ones:\n",
    "   - K-nearest neighbors (kNN)\n",
    "   - Decision tree\n",
    "   - Neural network\n",
    "   - SVM\n",
    "   \n",
    "<div class=\"alert alert-warning\">\n",
    "<b>[Question 5] Evalueate your classifier </b>  <br>\n",
    "Report the performances obtained with your classifiers (in terms of accuracy) and give some comments. Give also the hyper-parameters of your algorithms (e.g. number of neurons for mlp, kernel for SVM) and explain how you choose them. You can compare the classification accuracies obtained using different feature sets. For instance, do you obtain better results if you perform a dimensionality reduction (e.g. using PCA) before? (Or if you only use a subset of your features?)\n",
    "</div> "
   ]
  },
  {
   "cell_type": "markdown",
   "metadata": {},
   "source": [
    "(If needed...) Write here your comments/observations about the code related to the Question 5 here. Main observations should be included in the report. "
   ]
  },
  {
   "cell_type": "code",
   "execution_count": 16,
   "metadata": {},
   "outputs": [],
   "source": [
    "# Insert your code here"
   ]
  },
  {
   "cell_type": "code",
   "execution_count": null,
   "metadata": {},
   "outputs": [],
   "source": []
  }
 ],
 "metadata": {
  "kernelspec": {
   "display_name": "Python 3",
   "language": "python",
   "name": "python3"
  },
  "language_info": {
   "codemirror_mode": {
    "name": "ipython",
    "version": 3
   },
   "file_extension": ".py",
   "mimetype": "text/x-python",
   "name": "python",
   "nbconvert_exporter": "python",
   "pygments_lexer": "ipython3",
   "version": "3.6.5"
  }
 },
 "nbformat": 4,
 "nbformat_minor": 2
}
